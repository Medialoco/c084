{
 "cells": [
  {
   "cell_type": "markdown",
   "id": "bddaed28",
   "metadata": {},
   "source": [
    "## Setup\n",
    "```bash\n",
    "python3 -m venv .venv084\n",
    "source .venv084/bin/activate  \n",
    "pip install -U pip setuptools wheel\n",
    "pip install pyrosm geopandas shapely fiona pyproj rtree matplotlib jupyterlab ipykernel folium\n",
    "python -m ipykernel install --user --name=env84 --display-name \"Python (env084)\"\n",
    "```\n",
    "\n",
    "Run Jupyter and change to the relevant Kernel."
   ]
  },
  {
   "cell_type": "code",
   "execution_count": 1,
   "id": "0e881ad1-dcc3-4b48-a94e-5d08669c8937",
   "metadata": {
    "vscode": {
     "languageId": "plaintext"
    }
   },
   "outputs": [
    {
     "name": "stdout",
     "output_type": "stream",
     "text": [
      "Loaded PBF: ../osm-data-setup/c084.osm.pbf\n",
      "Using bounds: [4.7, 43.7, 5.6, 44.4]\n"
     ]
    }
   ],
   "source": [
    "from pathlib import Path\n",
    "from pyrosm import OSM\n",
    "\n",
    "# ▶️ Chemin vers ton PBF (à adapter)\n",
    "PBF_PATH = Path(\"../osm-data-setup/c084.osm.pbf\")\n",
    "osm = OSM(PBF_PATH.as_posix())\n",
    "print(\"Loaded PBF:\", PBF_PATH)\n",
    "\n",
    "#BOUNDS_WIDE  = [4.60, 43.60, 5.90, 44.50]\n",
    "BOUNDS_TIGHT = [4.70, 43.70, 5.60, 44.40]\n",
    "print(\"Using bounds:\", BOUNDS_TIGHT)"
   ]
  },
  {
   "cell_type": "markdown",
   "id": "f10db5f7-70ce-4d02-a81c-2d594929271c",
   "metadata": {},
   "source": [
    "## Buildings"
   ]
  },
  {
   "cell_type": "code",
   "execution_count": null,
   "id": "07d97eae-cd85-4e6b-9b2e-5f346f2c0439",
   "metadata": {},
   "outputs": [],
   "source": [
    "buildings = osm.get_buildings()\n",
    "print('Buildings rows:', 0 if buildings is None else len(buildings))\n",
    "buildings.head() if buildings is not None else None"
   ]
  },
  {
   "cell_type": "code",
   "execution_count": null,
   "id": "1d30b88d-4fba-4c1f-8140-379255cbb283",
   "metadata": {},
   "outputs": [],
   "source": [
    "import matplotlib.pyplot as plt\n",
    "\n",
    "if buildings is not None and not buildings.empty:\n",
    "    ax = buildings.plot(figsize=(9,9))\n",
    "    ax.set_title(\"Vaucluse — buildings (EPSG:4326)\")\n",
    "    plt.show()"
   ]
  },
  {
   "cell_type": "code",
   "execution_count": null,
   "id": "277a4933-5f22-4106-825c-e4d6c9a82ab4",
   "metadata": {},
   "outputs": [],
   "source": [
    "import folium\n",
    "from folium.plugins import HeatMap\n",
    "\n",
    "centroids = buildings.centroid\n",
    "heat_data = list(zip(centroids.y, centroids.x))  # (lat, lon)\n",
    "\n",
    "gradient_strong = {\n",
    "    0.0:  '#0a0a28',\n",
    "    0.2:  '#1a4cff',\n",
    "    0.4:  '#00d4ff',\n",
    "    0.6:  '#00ff88',\n",
    "    0.8:  '#ffee00',\n",
    "    1.0:  '#ff2a00',\n",
    "}\n",
    "\n",
    "m = folium.Map(location=[44.0, 5.2], zoom_start=9, tiles=\"cartodb positron\")\n",
    "HeatMap(\n",
    "    heat_data,\n",
    "    radius=28,        \n",
    "    blur=22,          \n",
    "    min_opacity=0.15,\n",
    "    gradient=gradient_strong\n",
    ").add_to(m)\n",
    "\n",
    "m.save(\"heatmap_buildings_strong.html\")\n",
    "m"
   ]
  },
  {
   "cell_type": "code",
   "execution_count": null,
   "id": "4ee5f743-f5ab-4a46-a583-7ad2c854ad32",
   "metadata": {},
   "outputs": [],
   "source": [
    "import folium\n",
    "from folium.plugins import HeatMap\n",
    "\n",
    "centroids = buildings.centroid\n",
    "heat_data = list(zip(centroids.y, centroids.x))\n",
    "\n",
    "m = folium.Map(location=[44.0, 5.2], zoom_start=9, tiles=\"cartodb positron\")\n",
    "HeatMap(heat_data, radius=6, blur=4).add_to(m)\n",
    "\n",
    "m.save(\"heatmap_buildings.html\")\n",
    "m"
   ]
  },
  {
   "cell_type": "code",
   "execution_count": null,
   "id": "18c2dec0-dd92-4b57-9ff7-7ecaf51ab63d",
   "metadata": {},
   "outputs": [],
   "source": []
  }
 ],
 "metadata": {
  "kernelspec": {
   "display_name": "Python (env084)",
   "language": "python",
   "name": "env84"
  },
  "language_info": {
   "codemirror_mode": {
    "name": "ipython",
    "version": 3
   },
   "file_extension": ".py",
   "mimetype": "text/x-python",
   "name": "python",
   "nbconvert_exporter": "python",
   "pygments_lexer": "ipython3",
   "version": "3.13.7"
  }
 },
 "nbformat": 4,
 "nbformat_minor": 5
}
